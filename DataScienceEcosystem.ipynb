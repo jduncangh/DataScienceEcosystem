{
 "cells": [
  {
   "cell_type": "markdown",
   "id": "276067f0-7149-488f-a114-049353707c3d",
   "metadata": {},
   "source": [
    "# Data Science Tools and Ecosystem"
   ]
  },
  {
   "cell_type": "markdown",
   "id": "3ecfd31b-1a29-403b-bcbf-8ac7d42e7bc5",
   "metadata": {},
   "source": [
    "\"In this notebook, Data Science Tools and Ecosystem are summarized.\""
   ]
  },
  {
   "cell_type": "markdown",
   "id": "28954663-d2d7-4b01-8b09-d0e00dbbb222",
   "metadata": {},
   "source": [
    "**Objectives:**\n",
    "- List popular languages for Data Science\n",
    "- List commonly used libraries for Data Science\n",
    "- Create a table showing Data Science Tools\n",
    "- Show some simple arithmetic expressions"
   ]
  },
  {
   "cell_type": "markdown",
   "id": "582151a0-c592-4082-b775-5e6bb1219477",
   "metadata": {},
   "source": [
    "\"Some of the popular languages that Data Scientists use are:\"\n",
    "1. Python\n",
    "2. R\n",
    "3. Java\n",
    "4. Java Scipt\n",
    "5. C++"
   ]
  },
  {
   "cell_type": "code",
   "execution_count": null,
   "id": "59c64669-98bc-4f22-a0e7-278c3fa0df15",
   "metadata": {},
   "outputs": [],
   "source": [
    "\"Some of the commonly used libraries used by Data Scientists include:\"\n",
    "1. Pandas\n",
    "2. Numpy\n",
    "3. matplotlib\n",
    "4. ggplot\n",
    "5. GGally"
   ]
  },
  {
   "cell_type": "markdown",
   "id": "9af96404-c115-473e-9ed8-5e803bd821e5",
   "metadata": {},
   "source": [
    "| Data Science Tools |\n",
    "| ------------------ |\n",
    "| Jupyter Notebook |\n",
    "| R Studio | \n",
    "| Spyder |"
   ]
  },
  {
   "cell_type": "markdown",
   "id": "dc71be1f-ef9c-42f9-b3e6-dae750d2407a",
   "metadata": {},
   "source": [
    "### Below are a few examples of evaluating arithmetic expressions in Python"
   ]
  },
  {
   "cell_type": "code",
   "execution_count": 11,
   "id": "40b3e04f-d027-4173-9181-14038e75e8ff",
   "metadata": {},
   "outputs": [
    {
     "data": {
      "text/plain": [
       "17"
      ]
     },
     "execution_count": 11,
     "metadata": {},
     "output_type": "execute_result"
    }
   ],
   "source": [
    "# This is a simple arithmetic expression to multiply then add integers.\n",
    "(3*4)+5"
   ]
  },
  {
   "cell_type": "code",
   "execution_count": 13,
   "id": "1836a14e-710b-4250-9450-120d3524e66b",
   "metadata": {},
   "outputs": [
    {
     "data": {
      "text/plain": [
       "3.3333333333333335"
      ]
     },
     "execution_count": 13,
     "metadata": {},
     "output_type": "execute_result"
    }
   ],
   "source": [
    "# This will convert 200 minutes to hours by dividing by 60\n",
    "200/60"
   ]
  },
  {
   "cell_type": "markdown",
   "id": "1411911d-e1d9-407f-92c2-63dbaaac520c",
   "metadata": {},
   "source": [
    "## Author\n",
    "Jonathan Duncan"
   ]
  },
  {
   "cell_type": "code",
   "execution_count": null,
   "id": "9db81919-9695-4ab2-bd8a-5380e422cc31",
   "metadata": {},
   "outputs": [],
   "source": []
  }
 ],
 "metadata": {
  "kernelspec": {
   "display_name": "Python 3 (ipykernel)",
   "language": "python",
   "name": "python3"
  },
  "language_info": {
   "codemirror_mode": {
    "name": "ipython",
    "version": 3
   },
   "file_extension": ".py",
   "mimetype": "text/x-python",
   "name": "python",
   "nbconvert_exporter": "python",
   "pygments_lexer": "ipython3",
   "version": "3.12.7"
  }
 },
 "nbformat": 4,
 "nbformat_minor": 5
}
